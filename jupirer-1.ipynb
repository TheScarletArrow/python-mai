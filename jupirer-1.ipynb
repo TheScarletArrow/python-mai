{
 "cells": [
  {
   "cell_type": "code",
   "execution_count": 209,
   "outputs": [],
   "source": [
    "import numpy as np"
   ],
   "metadata": {
    "collapsed": false,
    "pycharm": {
     "name": "#%%\n"
    }
   }
  },
  {
   "cell_type": "code",
   "execution_count": 210,
   "outputs": [],
   "source": [
    "a = np.random.randint(-10, 10, 10)"
   ],
   "metadata": {
    "collapsed": false,
    "pycharm": {
     "name": "#%%\n"
    }
   }
  },
  {
   "cell_type": "code",
   "execution_count": 211,
   "outputs": [
    {
     "name": "stdout",
     "output_type": "stream",
     "text": [
      "[  2  -4  -4  -2  -2 -10   7  -9   7   6]\n"
     ]
    }
   ],
   "source": [
    "print(a)"
   ],
   "metadata": {
    "collapsed": false,
    "pycharm": {
     "name": "#%%\n"
    }
   }
  },
  {
   "cell_type": "code",
   "execution_count": 212,
   "outputs": [],
   "source": [
    "b = a[a < 0]"
   ],
   "metadata": {
    "collapsed": false,
    "pycharm": {
     "name": "#%%\n"
    }
   }
  },
  {
   "cell_type": "code",
   "execution_count": 213,
   "outputs": [
    {
     "name": "stdout",
     "output_type": "stream",
     "text": [
      "[ -4  -4  -2  -2 -10  -9]\n"
     ]
    }
   ],
   "source": [
    "print(b)"
   ],
   "metadata": {
    "collapsed": false,
    "pycharm": {
     "name": "#%%\n"
    }
   }
  },
  {
   "cell_type": "code",
   "execution_count": 214,
   "outputs": [],
   "source": [
    "v1 = np.random.randint(-10, 10, 3)\n",
    "v2 = np.random.randint(-10, 10, 3)"
   ],
   "metadata": {
    "collapsed": false,
    "pycharm": {
     "name": "#%%\n"
    }
   }
  },
  {
   "cell_type": "code",
   "execution_count": 215,
   "outputs": [
    {
     "name": "stdout",
     "output_type": "stream",
     "text": [
      "[-8  8 -3]\n",
      "[ 3  5 -5]\n",
      "11.575836902790225\n"
     ]
    }
   ],
   "source": [
    "print(v1)\n",
    "print(v2)\n",
    "print(np.linalg.norm(v1 - v2))"
   ],
   "metadata": {
    "collapsed": false,
    "pycharm": {
     "name": "#%%\n"
    }
   }
  },
  {
   "cell_type": "code",
   "execution_count": 216,
   "outputs": [
    {
     "name": "stdout",
     "output_type": "stream",
     "text": [
      "[(5.1, 3.5, 1.4, 0.2, 'Iris-setosa') (4.9, 3. , 1.4, 0.2, 'Iris-setosa')\n",
      " (4.7, 3.2, 1.3, 0.2, 'Iris-setosa') (4.6, 3.1, 1.5, 0.2, 'Iris-setosa')\n",
      " (5. , 3.6, 1.4, 0.2, 'Iris-setosa') (5.4, 3.9, 1.7, 0.4, 'Iris-setosa')\n",
      " (4.6, 3.4, 1.4, 0.3, 'Iris-setosa') (5. , 3.4, 1.5, 0.2, 'Iris-setosa')\n",
      " (4.4, 2.9, 1.4, 0.2, 'Iris-setosa') (4.9, 3.1, 1.5, 0.1, 'Iris-setosa')\n",
      " (5.4, 3.7, 1.5, 0.2, 'Iris-setosa') (4.8, 3.4, 1.6, 0.2, 'Iris-setosa')\n",
      " (4.8, 3. , 1.4, 0.1, 'Iris-setosa') (4.3, 3. , 1.1, 0.1, 'Iris-setosa')\n",
      " (5.8, 4. , 1.2, 0.2, 'Iris-setosa') (5.7, 4.4, 1.5, 0.4, 'Iris-setosa')\n",
      " (5.4, 3.9, 1.3, 0.4, 'Iris-setosa') (5.1, 3.5, 1.4, 0.3, 'Iris-setosa')\n",
      " (5.7, 3.8, 1.7, 0.3, 'Iris-setosa') (5.1, 3.8, 1.5, 0.3, 'Iris-setosa')\n",
      " (5.4, 3.4, 1.7, 0.2, 'Iris-setosa') (5.1, 3.7, 1.5, 0.4, 'Iris-setosa')\n",
      " (4.6, 3.6, 1. , 0.2, 'Iris-setosa') (5.1, 3.3, 1.7, 0.5, 'Iris-setosa')\n",
      " (4.8, 3.4, 1.9, 0.2, 'Iris-setosa') (5. , 3. , 1.6, 0.2, 'Iris-setosa')\n",
      " (5. , 3.4, 1.6, 0.4, 'Iris-setosa') (5.2, 3.5, 1.5, 0.2, 'Iris-setosa')\n",
      " (5.2, 3.4, 1.4, 0.2, 'Iris-setosa') (4.7, 3.2, 1.6, 0.2, 'Iris-setosa')\n",
      " (4.8, 3.1, 1.6, 0.2, 'Iris-setosa') (5.4, 3.4, 1.5, 0.4, 'Iris-setosa')\n",
      " (5.2, 4.1, 1.5, 0.1, 'Iris-setosa') (5.5, 4.2, 1.4, 0.2, 'Iris-setosa')\n",
      " (4.9, 3.1, 1.5, 0.1, 'Iris-setosa') (5. , 3.2, 1.2, 0.2, 'Iris-setosa')\n",
      " (5.5, 3.5, 1.3, 0.2, 'Iris-setosa') (4.9, 3.1, 1.5, 0.1, 'Iris-setosa')\n",
      " (4.4, 3. , 1.3, 0.2, 'Iris-setosa') (5.1, 3.4, 1.5, 0.2, 'Iris-setosa')\n",
      " (5. , 3.5, 1.3, 0.3, 'Iris-setosa') (4.5, 2.3, 1.3, 0.3, 'Iris-setosa')\n",
      " (4.4, 3.2, 1.3, 0.2, 'Iris-setosa') (5. , 3.5, 1.6, 0.6, 'Iris-setosa')\n",
      " (5.1, 3.8, 1.9, 0.4, 'Iris-setosa') (4.8, 3. , 1.4, 0.3, 'Iris-setosa')\n",
      " (5.1, 3.8, 1.6, 0.2, 'Iris-setosa') (4.6, 3.2, 1.4, 0.2, 'Iris-setosa')\n",
      " (5.3, 3.7, 1.5, 0.2, 'Iris-setosa') (5. , 3.3, 1.4, 0.2, 'Iris-setosa')\n",
      " (7. , 3.2, 4.7, 1.4, 'Iris-versicolor')\n",
      " (6.4, 3.2, 4.5, 1.5, 'Iris-versicolor')\n",
      " (6.9, 3.1, 4.9, 1.5, 'Iris-versicolor')\n",
      " (5.5, 2.3, 4. , 1.3, 'Iris-versicolor')\n",
      " (6.5, 2.8, 4.6, 1.5, 'Iris-versicolor')\n",
      " (5.7, 2.8, 4.5, 1.3, 'Iris-versicolor')\n",
      " (6.3, 3.3, 4.7, 1.6, 'Iris-versicolor')\n",
      " (4.9, 2.4, 3.3, 1. , 'Iris-versicolor')\n",
      " (6.6, 2.9, 4.6, 1.3, 'Iris-versicolor')\n",
      " (5.2, 2.7, 3.9, 1.4, 'Iris-versicolor')\n",
      " (5. , 2. , 3.5, 1. , 'Iris-versicolor')\n",
      " (5.9, 3. , 4.2, 1.5, 'Iris-versicolor')\n",
      " (6. , 2.2, 4. , 1. , 'Iris-versicolor')\n",
      " (6.1, 2.9, 4.7, 1.4, 'Iris-versicolor')\n",
      " (5.6, 2.9, 3.6, 1.3, 'Iris-versicolor')\n",
      " (6.7, 3.1, 4.4, 1.4, 'Iris-versicolor')\n",
      " (5.6, 3. , 4.5, 1.5, 'Iris-versicolor')\n",
      " (5.8, 2.7, 4.1, 1. , 'Iris-versicolor')\n",
      " (6.2, 2.2, 4.5, 1.5, 'Iris-versicolor')\n",
      " (5.6, 2.5, 3.9, 1.1, 'Iris-versicolor')\n",
      " (5.9, 3.2, 4.8, 1.8, 'Iris-versicolor')\n",
      " (6.1, 2.8, 4. , 1.3, 'Iris-versicolor')\n",
      " (6.3, 2.5, 4.9, 1.5, 'Iris-versicolor')\n",
      " (6.1, 2.8, 4.7, 1.2, 'Iris-versicolor')\n",
      " (6.4, 2.9, 4.3, 1.3, 'Iris-versicolor')\n",
      " (6.6, 3. , 4.4, 1.4, 'Iris-versicolor')\n",
      " (6.8, 2.8, 4.8, 1.4, 'Iris-versicolor')\n",
      " (6.7, 3. , 5. , 1.7, 'Iris-versicolor')\n",
      " (6. , 2.9, 4.5, 1.5, 'Iris-versicolor')\n",
      " (5.7, 2.6, 3.5, 1. , 'Iris-versicolor')\n",
      " (5.5, 2.4, 3.8, 1.1, 'Iris-versicolor')\n",
      " (5.5, 2.4, 3.7, 1. , 'Iris-versicolor')\n",
      " (5.8, 2.7, 3.9, 1.2, 'Iris-versicolor')\n",
      " (6. , 2.7, 5.1, 1.6, 'Iris-versicolor')\n",
      " (5.4, 3. , 4.5, 1.5, 'Iris-versicolor')\n",
      " (6. , 3.4, 4.5, 1.6, 'Iris-versicolor')\n",
      " (6.7, 3.1, 4.7, 1.5, 'Iris-versicolor')\n",
      " (6.3, 2.3, 4.4, 1.3, 'Iris-versicolor')\n",
      " (5.6, 3. , 4.1, 1.3, 'Iris-versicolor')\n",
      " (5.5, 2.5, 4. , 1.3, 'Iris-versicolor')\n",
      " (5.5, 2.6, 4.4, 1.2, 'Iris-versicolor')\n",
      " (6.1, 3. , 4.6, 1.4, 'Iris-versicolor')\n",
      " (5.8, 2.6, 4. , 1.2, 'Iris-versicolor')\n",
      " (5. , 2.3, 3.3, 1. , 'Iris-versicolor')\n",
      " (5.6, 2.7, 4.2, 1.3, 'Iris-versicolor')\n",
      " (5.7, 3. , 4.2, 1.2, 'Iris-versicolor')\n",
      " (5.7, 2.9, 4.2, 1.3, 'Iris-versicolor')\n",
      " (6.2, 2.9, 4.3, 1.3, 'Iris-versicolor')\n",
      " (5.1, 2.5, 3. , 1.1, 'Iris-versicolor')\n",
      " (5.7, 2.8, 4.1, 1.3, 'Iris-versicolor')\n",
      " (6.3, 3.3, 6. , 2.5, 'Iris-virginica')\n",
      " (5.8, 2.7, 5.1, 1.9, 'Iris-virginica')\n",
      " (7.1, 3. , 5.9, 2.1, 'Iris-virginica')\n",
      " (6.3, 2.9, 5.6, 1.8, 'Iris-virginica')\n",
      " (6.5, 3. , 5.8, 2.2, 'Iris-virginica')\n",
      " (7.6, 3. , 6.6, 2.1, 'Iris-virginica')\n",
      " (4.9, 2.5, 4.5, 1.7, 'Iris-virginica')\n",
      " (7.3, 2.9, 6.3, 1.8, 'Iris-virginica')\n",
      " (6.7, 2.5, 5.8, 1.8, 'Iris-virginica')\n",
      " (7.2, 3.6, 6.1, 2.5, 'Iris-virginica')\n",
      " (6.5, 3.2, 5.1, 2. , 'Iris-virginica')\n",
      " (6.4, 2.7, 5.3, 1.9, 'Iris-virginica')\n",
      " (6.8, 3. , 5.5, 2.1, 'Iris-virginica')\n",
      " (5.7, 2.5, 5. , 2. , 'Iris-virginica')\n",
      " (5.8, 2.8, 5.1, 2.4, 'Iris-virginica')\n",
      " (6.4, 3.2, 5.3, 2.3, 'Iris-virginica')\n",
      " (6.5, 3. , 5.5, 1.8, 'Iris-virginica')\n",
      " (7.7, 3.8, 6.7, 2.2, 'Iris-virginica')\n",
      " (7.7, 2.6, 6.9, 2.3, 'Iris-virginica')\n",
      " (6. , 2.2, 5. , 1.5, 'Iris-virginica')\n",
      " (6.9, 3.2, 5.7, 2.3, 'Iris-virginica')\n",
      " (5.6, 2.8, 4.9, 2. , 'Iris-virginica')\n",
      " (7.7, 2.8, 6.7, 2. , 'Iris-virginica')\n",
      " (6.3, 2.7, 4.9, 1.8, 'Iris-virginica')\n",
      " (6.7, 3.3, 5.7, 2.1, 'Iris-virginica')\n",
      " (7.2, 3.2, 6. , 1.8, 'Iris-virginica')\n",
      " (6.2, 2.8, 4.8, 1.8, 'Iris-virginica')\n",
      " (6.1, 3. , 4.9, 1.8, 'Iris-virginica')\n",
      " (6.4, 2.8, 5.6, 2.1, 'Iris-virginica')\n",
      " (7.2, 3. , 5.8, 1.6, 'Iris-virginica')\n",
      " (7.4, 2.8, 6.1, 1.9, 'Iris-virginica')\n",
      " (7.9, 3.8, 6.4, 2. , 'Iris-virginica')\n",
      " (6.4, 2.8, 5.6, 2.2, 'Iris-virginica')\n",
      " (6.3, 2.8, 5.1, 1.5, 'Iris-virginica')\n",
      " (6.1, 2.6, 5.6, 1.4, 'Iris-virginica')\n",
      " (7.7, 3. , 6.1, 2.3, 'Iris-virginica')\n",
      " (6.3, 3.4, 5.6, 2.4, 'Iris-virginica')\n",
      " (6.4, 3.1, 5.5, 1.8, 'Iris-virginica')\n",
      " (6. , 3. , 4.8, 1.8, 'Iris-virginica')\n",
      " (6.9, 3.1, 5.4, 2.1, 'Iris-virginica')\n",
      " (6.7, 3.1, 5.6, 2.4, 'Iris-virginica')\n",
      " (6.9, 3.1, 5.1, 2.3, 'Iris-virginica')\n",
      " (5.8, 2.7, 5.1, 1.9, 'Iris-virginica')\n",
      " (6.8, 3.2, 5.9, 2.3, 'Iris-virginica')\n",
      " (6.7, 3.3, 5.7, 2.5, 'Iris-virginica')\n",
      " (6.7, 3. , 5.2, 2.3, 'Iris-virginica')\n",
      " (6.3, 2.5, 5. , 1.9, 'Iris-virginica')\n",
      " (6.5, 3. , 5.2, 2. , 'Iris-virginica')\n",
      " (6.2, 3.4, 5.4, 2.3, 'Iris-virginica')\n",
      " (5.9, 3. , 5.1, 1.8, 'Iris-virginica')]\n"
     ]
    }
   ],
   "source": [
    "# read iris (1).data\n",
    "\n",
    "data = np.genfromtxt('iris (1).data', delimiter=',',  dtype=[('sepal_length', 'float64'), ('sepal_width', 'float'), ('petal_length', 'float'), ('petal_width', 'float'), ('iris_class', 'U25')], usecols=(0, 1, 2, 3, 4),  names=['sepal_length', 'sepal_width', 'petal_length', 'petal_width', 'iris_class'])\n",
    "\n",
    "print(data)\n",
    "# store each column in an array\n",
    "sepal_length = data['sepal_length']\n",
    "sepal_width = data['sepal_width']\n",
    "petal_length = data['petal_length']\n",
    "petal_width = data['petal_width']\n",
    "iris_color = data['iris_class']\n",
    "\n",
    "# print(iris_color)"
   ],
   "metadata": {
    "collapsed": false,
    "pycharm": {
     "name": "#%%\n"
    }
   }
  },
  {
   "cell_type": "code",
   "execution_count": 216,
   "outputs": [],
   "source": [],
   "metadata": {
    "collapsed": false,
    "pycharm": {
     "name": "#%%\n"
    }
   }
  },
  {
   "cell_type": "code",
   "execution_count": 217,
   "outputs": [
    {
     "data": {
      "text/plain": "<Figure size 1000x1000 with 4 Axes>",
      "image/png": "[encoded data removed]"
     },
     "metadata": {},
     "output_type": "display_data"
    }
   ],
   "source": [
    "# crate subplots\n",
    "import matplotlib.pyplot as plt\n",
    "\n",
    "#create subplots from each data columns\n",
    "fig, axs = plt.subplots(2, 2)\n",
    "\n",
    "# map each element from iris_color to a color\n",
    "colors = {'Iris-setosa': 'red', 'Iris-versicolor': 'green', 'Iris-virginica': 'blue'}\n",
    "# get color for each element in colors\n",
    "colors = [colors[x] for x in iris_color]\n",
    "\n",
    "# plot the data with colors\n",
    "axs[0, 0].scatter(sepal_length, sepal_width, c=colors)\n",
    "axs[0, 1].scatter(sepal_width, petal_width, c=colors)\n",
    "axs[1, 0].scatter(petal_length, petal_length,  c=colors)\n",
    "axs[1, 1].scatter(petal_width, petal_width,  c=colors)\n",
    "\n",
    "# set the title\n",
    "axs[0, 0].set_title('sepal_length')\n",
    "axs[0, 1].set_title('sepal_width')\n",
    "axs[1, 0].set_title('petal_length')\n",
    "axs[1, 1].set_title('petal_width')\n",
    "\n",
    "# set the x label\n",
    "axs[1, 0].set_xlabel('sample')\n",
    "axs[1, 1].set_xlabel('sample')\n",
    "\n",
    "# set the y label\n",
    "axs[0, 0].set_ylabel('cm')\n",
    "axs[0, 1].set_ylabel('cm')\n",
    "axs[1, 0].set_ylabel('cm')\n",
    "axs[1, 1].set_ylabel('cm')\n",
    "\n",
    "# set the x and y axis limit\n",
    "axs[0, 0].set_xlim([0, 10])\n",
    "axs[0, 0].set_ylim([0, 10])\n",
    "\n",
    "axs[0, 1].set_xlim([0, 10])\n",
    "axs[0, 1].set_ylim([0, 10])\n",
    "\n",
    "axs[1, 0].set_xlim([0, 10])\n",
    "axs[1, 0].set_ylim([0, 10])\n",
    "\n",
    "axs[1, 1].set_xlim([0, 10])\n",
    "axs[1, 1].set_ylim([0, 5])\n",
    "\n",
    "\n",
    "\n",
    "# set the grid\n",
    "axs[0, 0].grid()\n",
    "axs[0, 1].grid()\n",
    "axs[1, 0].grid()\n",
    "axs[1, 1].grid()\n",
    "\n",
    "# set the figure size\n",
    "fig.set_size_inches(10, 10)\n",
    "\n",
    "# show the plot\n",
    "plt.show()\n",
    "\n",
    "\n"
   ],
   "metadata": {
    "collapsed": false,
    "pycharm": {
     "name": "#%%\n"
    }
   }
  },
  {
   "cell_type": "code",
   "execution_count": 217,
   "outputs": [],
   "source": [],
   "metadata": {
    "collapsed": false,
    "pycharm": {
     "name": "#%%\n"
    }
   }
  }
 ],
 "metadata": {
  "kernelspec": {
   "display_name": "Python 3",
   "language": "python",
   "name": "python3"
  },
  "language_info": {
   "codemirror_mode": {
    "name": "ipython",
    "version": 2
   },
   "file_extension": ".py",
   "mimetype": "text/x-python",
   "name": "python",
   "nbconvert_exporter": "python",
   "pygments_lexer": "ipython2",
   "version": "2.7.6"
  }
 },
 "nbformat": 4,
 "nbformat_minor": 0
}