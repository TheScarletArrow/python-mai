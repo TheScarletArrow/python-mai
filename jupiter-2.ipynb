{
 "cells": [
  {
   "cell_type": "code",
   "execution_count": 143,
   "outputs": [],
   "source": [
    "from sklearn import datasets\n",
    "from sklearn.model_selection import train_test_split\n",
    "from sklearn.linear_model import LinearRegression\n",
    "from sklearn.ensemble import RandomForestRegressor\n",
    "from sklearn.metrics import mean_squared_error\n",
    "from sklearn.metrics import mean_absolute_error\n",
    "from sklearn.metrics import r2_score\n",
    "from sklearn.tree import DecisionTreeRegressor\n",
    "from sklearn.model_selection import GridSearchCV\n"
   ],
   "metadata": {
    "collapsed": false,
    "pycharm": {
     "name": "#%%\n"
    }
   }
  },
  {
   "cell_type": "code",
   "execution_count": 144,
   "outputs": [],
   "source": [
    "diabetes = datasets.load_diabetes()"
   ],
   "metadata": {
    "collapsed": false,
    "pycharm": {
     "name": "#%%\n"
    }
   }
  },
  {
   "cell_type": "code",
   "execution_count": 145,
   "outputs": [],
   "source": [
    "data = diabetes.data\n",
    "target = diabetes.target"
   ],
   "metadata": {
    "collapsed": false,
    "pycharm": {
     "name": "#%%\n"
    }
   }
  },
  {
   "cell_type": "code",
   "execution_count": 146,
   "outputs": [],
   "source": [
    "X_train, X_test, y_train, y_test = train_test_split(data, target, test_size=0.2, random_state=0)"
   ],
   "metadata": {
    "collapsed": false,
    "pycharm": {
     "name": "#%%\n"
    }
   }
  },
  {
   "cell_type": "code",
   "execution_count": 147,
   "outputs": [
    {
     "name": "stdout",
     "output_type": "stream",
     "text": [
      "Training data MSE:  2734.7508990757424\n",
      "Training data MAE:  42.59334431424345\n",
      "Training data R^2:  0.5539250081377072\n",
      "Test data MSE:  3424.259334298691\n",
      "Test data MAE:  46.17358500370479\n",
      "Test data R^2:  0.3322332173106186\n"
     ]
    }
   ],
   "source": [
    "#teach the model using the training data\n",
    "model = LinearRegression()\n",
    "model.fit(X_train, y_train)\n",
    "y_train_pred = model.predict(X_train)\n",
    "mse_train = mean_squared_error(y_train, y_train_pred)\n",
    "print(\"Training data MSE: \", mse_train)\n",
    "#calulate mae for training data\n",
    "mae_train = mean_absolute_error(y_train, y_train_pred)\n",
    "print(\"Training data MAE: \", mae_train)\n",
    "#calulate R^2 for training data\n",
    "r2_train = r2_score(y_train, y_train_pred)\n",
    "print(\"Training data R^2: \", r2_train)\n",
    "#calulate mse for test data\n",
    "y_test_pred = model.predict(X_test)\n",
    "mse_test = mean_squared_error(y_test, y_test_pred)\n",
    "print(\"Test data MSE: \", mse_test)\n",
    "#calulate mae for test data\n",
    "mae_test = mean_absolute_error(y_test, y_test_pred)\n",
    "print(\"Test data MAE: \", mae_test)\n",
    "r2_test = r2_score(y_test, y_test_pred)\n",
    "print(\"Test data R^2: \", r2_test)"
   ],
   "metadata": {
    "collapsed": false,
    "pycharm": {
     "name": "#%%\n"
    }
   }
  },
  {
   "cell_type": "code",
   "execution_count": 148,
   "outputs": [
    {
     "name": "stdout",
     "output_type": "stream",
     "text": [
      "Training data MSE:  2381.8897321020263\n",
      "Training data MAE:  40.4568413382197\n",
      "Training data R^2:  0.6114814540427131\n",
      "Test data MSE:  3632.700623095807\n",
      "Test data MAE:  47.08021826515086\n",
      "Test data R^2:  0.29158496167019554\n"
     ]
    }
   ],
   "source": [
    "\n",
    "param_grid = {\n",
    "    'max_depth': [3],\n",
    "    'min_samples_leaf': [3],\n",
    "    'min_samples_split': [2]\n",
    "}\n",
    "#teach the model using forest\n",
    "model2 = RandomForestRegressor()\n",
    "model2 = GridSearchCV(model2, param_grid, cv=3)\n",
    "model2.fit(X_train, y_train)\n",
    "\n",
    "y_train_pred2 = model2.predict(X_train)\n",
    "mse_train2 = mean_squared_error(y_train, y_train_pred2)\n",
    "print(\"Training data MSE: \", mse_train2)\n",
    "#calulate mae for training data\n",
    "mae_train2 = mean_absolute_error(y_train, y_train_pred2)\n",
    "\n",
    "print(\"Training data MAE: \", mae_train2)\n",
    "#calulate R^2 for training data\n",
    "r2_train2 = r2_score(y_train, y_train_pred2)\n",
    "print(\"Training data R^2: \", r2_train2)\n",
    "#calulate mse for test data\n",
    "y_test_pred2 = model2.predict(X_test)\n",
    "mse_test2 = mean_squared_error(y_test, y_test_pred2)\n",
    "print(\"Test data MSE: \", mse_test2)\n",
    "#calulate mae for test data\n",
    "mae_test2 = mean_absolute_error(y_test, y_test_pred2)\n",
    "print(\"Test data MAE: \", mae_test2)\n",
    "#calulate R^2 for test data\n",
    "r2_test2 = r2_score(y_test, y_test_pred2)\n",
    "print(\"Test data R^2: \", r2_test2)\n"
   ],
   "metadata": {
    "collapsed": false,
    "pycharm": {
     "name": "#%%\n"
    }
   }
  },
  {
   "cell_type": "code",
   "execution_count": 149,
   "outputs": [
    {
     "name": "stdout",
     "output_type": "stream",
     "text": [
      "Training data MSE:  2639.356383210746\n",
      "Training data MAE:  41.27443981891574\n",
      "Training data R^2:  0.5694851485155994\n",
      "Test data MSE:  4669.900912391118\n",
      "Test data MAE:  54.64962133372245\n",
      "Test data R^2:  0.08931993657416948\n"
     ]
    }
   ],
   "source": [
    "model3 =DecisionTreeRegressor()\n",
    "model3 = GridSearchCV(model3, param_grid, cv=3)\n",
    "model3.fit(X_train, y_train)\n",
    "\n",
    "y_train_pred3 = model3.predict(X_train)\n",
    "mse_train3 = mean_squared_error(y_train, y_train_pred3)\n",
    "print(\"Training data MSE: \", mse_train3)\n",
    "#calulate mae for training data\n",
    "mae_train3 = mean_absolute_error(y_train, y_train_pred3)\n",
    "print(\"Training data MAE: \", mae_train3)\n",
    "#calulate R^2 for training data\n",
    "r2_train3 = r2_score(y_train, y_train_pred3)\n",
    "print(\"Training data R^2: \", r2_train3)\n",
    "#calulate mse for test data\n",
    "y_test_pred3 = model3.predict(X_test)\n",
    "mse_test3 = mean_squared_error(y_test, y_test_pred3)\n",
    "print(\"Test data MSE: \", mse_test3)\n",
    "#calulate mae for test data\n",
    "mae_test3 = mean_absolute_error(y_test, y_test_pred3)\n",
    "print(\"Test data MAE: \", mae_test3)\n",
    "#calulate R^2 for test data\n",
    "r2_test3 = r2_score(y_test, y_test_pred3)\n",
    "print(\"Test data R^2: \", r2_test3)"
   ],
   "metadata": {
    "collapsed": false,
    "pycharm": {
     "name": "#%%#Calculate MSE\n"
    }
   }
  },
  {
   "cell_type": "code",
   "execution_count": 149,
   "outputs": [],
   "source": [],
   "metadata": {
    "collapsed": false,
    "pycharm": {
     "name": "#%%\n"
    }
   }
  }
 ],
 "metadata": {
  "kernelspec": {
   "display_name": "Python 3",
   "language": "python",
   "name": "python3"
  },
  "language_info": {
   "codemirror_mode": {
    "name": "ipython",
    "version": 2
   },
   "file_extension": ".py",
   "mimetype": "text/x-python",
   "name": "python",
   "nbconvert_exporter": "python",
   "pygments_lexer": "ipython2",
   "version": "2.7.6"
  }
 },
 "nbformat": 4,
 "nbformat_minor": 0
}