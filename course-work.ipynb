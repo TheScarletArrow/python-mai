{
 "cells": [
  {
   "cell_type": "code",
   "execution_count": 74,
   "outputs": [
    {
     "name": "stdout",
     "output_type": "stream",
     "text": [
      "[['неспам'\n",
      "  '\"Иди до точки Джуронг  сумасшедший .. Доступно только в буфете Bugis n Great World La E ... Кинотеатр есть любовь ...\"']\n",
      " ['неспам' '\"Хорошо  Лар... Шучу с тобой...\"']\n",
      " ['спам'\n",
      "  '\"Бесплатное участие в 2-х еженедельных соревнованиях за победу в финале Кубка Англии 21 мая 2005 года. Отправьте сообщение FA на номер 87121  чтобы получить ответный вопрос (стандартная скорость отправки сообщений).\"']\n",
      " ...\n",
      " ['неспам'\n",
      "  '\"Жаль  * был в настроении для этого. Итак... какие еще предложения?\"']\n",
      " ['неспам'\n",
      "  '\"Парень немного похулиганил  но я вел себя так  будто на следующей неделе хочу купить что-нибудь еще  и он дал нам это бесплатно.\"']\n",
      " ['неспам' 'Рофл. Это соответствует его названию']]\n"
     ]
    }
   ],
   "source": [
    "import numpy as np\n",
    "#read spam (1).csv as windows1251\n",
    "data = np.genfromtxt('spam (1).csv', delimiter=',', dtype='str', encoding='windows-1251')\n",
    "# data = np.genfromtxt('spam (1).csv', delimiter=',', dtype=[('class', 'str'), ('text','str')], encoding='windows-1251', usecols=(0,1))\n",
    "# data = np.genfromtxt('spam (1).csv', delimiter=',', usecols=(0, 1), dtype=[('class', 'str'), ('text', 'str')])\n",
    "#print data where first value is спам\n",
    "print(data)\n"
   ],
   "metadata": {
    "collapsed": false,
    "pycharm": {
     "name": "#%%\n"
    }
   }
  },
  {
   "cell_type": "code",
   "execution_count": 75,
   "outputs": [],
   "source": [
    "#split data into train and test\n",
    "from sklearn.model_selection import train_test_split\n",
    "X_train, X_test, y_train, y_test = train_test_split(data[:,1], data[:,0], test_size=0.3, random_state=0)\n",
    "#use stop words\n",
    "\n",
    "#vecrtorize text\n",
    "from sklearn.feature_extraction.text import CountVectorizer\n",
    "count_vect = CountVectorizer(encoding='windows-1251')\n",
    "X_train_counts = count_vect.fit_transform(X_train)\n",
    "X_test_counts = count_vect.transform(X_test)"
   ],
   "metadata": {
    "collapsed": false,
    "pycharm": {
     "name": "#%%\n"
    }
   }
  },
  {
   "cell_type": "code",
   "execution_count": 76,
   "outputs": [
    {
     "name": "stdout",
     "output_type": "stream",
     "text": [
      "0.8654537286612758\n",
      "0.8654537286612758\n",
      "0.8654537286612758\n",
      "0.8939802336028752\n",
      "0.9779874213836478\n",
      "0.9811320754716981\n",
      "0.9818059299191375\n",
      "0.9813566936208445\n",
      "0.9802336028751123\n",
      "0.9797843665768194\n",
      "0.9802336028751123\n",
      "0.981581311769991\n",
      "0.9818059299191375\n",
      "0.9829290206648698\n",
      "0.9824797843665768\n",
      "0.9824797843665768\n",
      "0.9822551662174304\n",
      "0.9820305480682839\n",
      "0.9811320754716981\n",
      "0.9811320754716981\n",
      "0.9809074573225517\n",
      "0.9811320754716981\n",
      "0.9813566936208445\n",
      "0.9811320754716981\n",
      "0.9809074573225517\n",
      "0.9806828391734053\n",
      "0.9806828391734053\n",
      "0.9806828391734053\n",
      "0.9806828391734053\n",
      "0.9806828391734053\n"
     ]
    }
   ],
   "source": [
    "from sklearn.neural_network import MLPClassifier\n",
    "\n",
    "model = MLPClassifier(max_iter=500, learning_rate_init = 0.1, activation = 'logistic',\n",
    "hidden_layer_sizes=(5,), random_state=0)\n",
    "# model.fit(X_train_counts, y_train)\n",
    "# print(model.score(X_test_counts, y_test))\n",
    "\n",
    "#create 3 epochs\n",
    "for i in range(30):\n",
    "    model.partial_fit(X_train_counts, y_train, classes=np.unique(y_train))\n",
    "    print(model.score(X_test_counts, y_test))\n",
    "\n",
    "\n"
   ],
   "metadata": {
    "collapsed": false,
    "pycharm": {
     "name": "#%%\n"
    }
   }
  },
  {
   "cell_type": "code",
   "execution_count": 77,
   "outputs": [
    {
     "name": "stdout",
     "output_type": "stream",
     "text": [
      "0.9328391734052112\n",
      "0.9579964061096137\n",
      "0.9620395327942498\n",
      "0.9620395327942498\n",
      "0.9620395327942498\n",
      "0.9620395327942498\n",
      "0.9620395327942498\n",
      "0.9620395327942498\n",
      "0.9620395327942498\n",
      "0.9620395327942498\n",
      "0.9620395327942498\n",
      "0.9620395327942498\n",
      "0.9620395327942498\n",
      "0.9620395327942498\n",
      "0.9620395327942498\n",
      "0.9620395327942498\n",
      "0.9620395327942498\n",
      "0.9620395327942498\n",
      "0.9620395327942498\n",
      "0.9620395327942498\n",
      "0.9620395327942498\n",
      "0.9620395327942498\n",
      "0.9620395327942498\n",
      "0.9620395327942498\n",
      "0.9620395327942498\n",
      "0.9620395327942498\n",
      "0.9620395327942498\n",
      "0.9620395327942498\n",
      "0.9620395327942498\n",
      "0.9620395327942498\n"
     ]
    }
   ],
   "source": [
    "from sklearn.linear_model import Perceptron\n",
    "\n",
    "model2 = Perceptron(max_iter=500, eta0=0.1, random_state=0)\n",
    "for i in range(30):\n",
    "    model2.partial_fit(X_train_counts, y_train, classes=np.unique(y_train))\n",
    "    print(model2.score(X_test_counts, y_test))\n"
   ],
   "metadata": {
    "collapsed": false,
    "pycharm": {
     "name": "#%%\n"
    }
   }
  },
  {
   "cell_type": "code",
   "execution_count": 77,
   "outputs": [],
   "source": [],
   "metadata": {
    "collapsed": false,
    "pycharm": {
     "name": "#%%\n"
    }
   }
  }
 ],
 "metadata": {
  "kernelspec": {
   "display_name": "Python 3",
   "language": "python",
   "name": "python3"
  },
  "language_info": {
   "codemirror_mode": {
    "name": "ipython",
    "version": 2
   },
   "file_extension": ".py",
   "mimetype": "text/x-python",
   "name": "python",
   "nbconvert_exporter": "python",
   "pygments_lexer": "ipython2",
   "version": "2.7.6"
  }
 },
 "nbformat": 4,
 "nbformat_minor": 0
}