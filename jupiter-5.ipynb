{
 "cells": [
  {
   "cell_type": "code",
   "execution_count": 1,
   "outputs": [],
   "source": [
    "from sklearn.linear_model import Perceptron\n",
    "from sklearn.neural_network import MLPClassifier\n",
    "\n",
    "from sklearn import datasets\n",
    "\n",
    "digits = datasets.load_digits()\n",
    "# apply data normalization\n",
    "from sklearn.preprocessing import Normalizer\n",
    "normalizer = Normalizer()\n",
    "normalized = normalizer.fit_transform(digits.data)\n",
    "\n",
    "# apply data standardization\n",
    "from sklearn.preprocessing import StandardScaler\n",
    "standardizer = StandardScaler()\n",
    "standardized = standardizer.fit_transform(digits.data)\n"
   ],
   "metadata": {
    "collapsed": false,
    "pycharm": {
     "name": "#%%\n"
    }
   }
  },
  {
   "cell_type": "code",
   "execution_count": 2,
   "outputs": [],
   "source": [
    "# однослойный перцептрон\n",
    "model = Perceptron(max_iter=500, eta0=0.1, random_state=0)\n",
    "# многослойный перцептрон\n",
    "model2 = MLPClassifier(max_iter=500, learning_rate_init = 0.1, activation = 'logistic',\n",
    "hidden_layer_sizes=(5,), random_state=0)\n"
   ],
   "metadata": {
    "collapsed": false,
    "pycharm": {
     "name": "#%%\n"
    }
   }
  },
  {
   "cell_type": "code",
   "execution_count": 8,
   "outputs": [
    {
     "name": "stdout",
     "output_type": "stream",
     "text": [
      "{'data': array([[ 0.,  0.,  5., ...,  0.,  0.,  0.],\n",
      "       [ 0.,  0.,  0., ..., 10.,  0.,  0.],\n",
      "       [ 0.,  0.,  0., ..., 16.,  9.,  0.],\n",
      "       ...,\n",
      "       [ 0.,  0.,  1., ...,  6.,  0.,  0.],\n",
      "       [ 0.,  0.,  2., ..., 12.,  0.,  0.],\n",
      "       [ 0.,  0., 10., ..., 12.,  1.,  0.]]), 'target': array([0, 1, 2, ..., 8, 9, 8]), 'frame': None, 'feature_names': ['pixel_0_0', 'pixel_0_1', 'pixel_0_2', 'pixel_0_3', 'pixel_0_4', 'pixel_0_5', 'pixel_0_6', 'pixel_0_7', 'pixel_1_0', 'pixel_1_1', 'pixel_1_2', 'pixel_1_3', 'pixel_1_4', 'pixel_1_5', 'pixel_1_6', 'pixel_1_7', 'pixel_2_0', 'pixel_2_1', 'pixel_2_2', 'pixel_2_3', 'pixel_2_4', 'pixel_2_5', 'pixel_2_6', 'pixel_2_7', 'pixel_3_0', 'pixel_3_1', 'pixel_3_2', 'pixel_3_3', 'pixel_3_4', 'pixel_3_5', 'pixel_3_6', 'pixel_3_7', 'pixel_4_0', 'pixel_4_1', 'pixel_4_2', 'pixel_4_3', 'pixel_4_4', 'pixel_4_5', 'pixel_4_6', 'pixel_4_7', 'pixel_5_0', 'pixel_5_1', 'pixel_5_2', 'pixel_5_3', 'pixel_5_4', 'pixel_5_5', 'pixel_5_6', 'pixel_5_7', 'pixel_6_0', 'pixel_6_1', 'pixel_6_2', 'pixel_6_3', 'pixel_6_4', 'pixel_6_5', 'pixel_6_6', 'pixel_6_7', 'pixel_7_0', 'pixel_7_1', 'pixel_7_2', 'pixel_7_3', 'pixel_7_4', 'pixel_7_5', 'pixel_7_6', 'pixel_7_7'], 'target_names': array([0, 1, 2, 3, 4, 5, 6, 7, 8, 9]), 'images': array([[[ 0.,  0.,  5., ...,  1.,  0.,  0.],\n",
      "        [ 0.,  0., 13., ..., 15.,  5.,  0.],\n",
      "        [ 0.,  3., 15., ..., 11.,  8.,  0.],\n",
      "        ...,\n",
      "        [ 0.,  4., 11., ..., 12.,  7.,  0.],\n",
      "        [ 0.,  2., 14., ..., 12.,  0.,  0.],\n",
      "        [ 0.,  0.,  6., ...,  0.,  0.,  0.]],\n",
      "\n",
      "       [[ 0.,  0.,  0., ...,  5.,  0.,  0.],\n",
      "        [ 0.,  0.,  0., ...,  9.,  0.,  0.],\n",
      "        [ 0.,  0.,  3., ...,  6.,  0.,  0.],\n",
      "        ...,\n",
      "        [ 0.,  0.,  1., ...,  6.,  0.,  0.],\n",
      "        [ 0.,  0.,  1., ...,  6.,  0.,  0.],\n",
      "        [ 0.,  0.,  0., ..., 10.,  0.,  0.]],\n",
      "\n",
      "       [[ 0.,  0.,  0., ..., 12.,  0.,  0.],\n",
      "        [ 0.,  0.,  3., ..., 14.,  0.,  0.],\n",
      "        [ 0.,  0.,  8., ..., 16.,  0.,  0.],\n",
      "        ...,\n",
      "        [ 0.,  9., 16., ...,  0.,  0.,  0.],\n",
      "        [ 0.,  3., 13., ..., 11.,  5.,  0.],\n",
      "        [ 0.,  0.,  0., ..., 16.,  9.,  0.]],\n",
      "\n",
      "       ...,\n",
      "\n",
      "       [[ 0.,  0.,  1., ...,  1.,  0.,  0.],\n",
      "        [ 0.,  0., 13., ...,  2.,  1.,  0.],\n",
      "        [ 0.,  0., 16., ..., 16.,  5.,  0.],\n",
      "        ...,\n",
      "        [ 0.,  0., 16., ..., 15.,  0.,  0.],\n",
      "        [ 0.,  0., 15., ..., 16.,  0.,  0.],\n",
      "        [ 0.,  0.,  2., ...,  6.,  0.,  0.]],\n",
      "\n",
      "       [[ 0.,  0.,  2., ...,  0.,  0.,  0.],\n",
      "        [ 0.,  0., 14., ..., 15.,  1.,  0.],\n",
      "        [ 0.,  4., 16., ..., 16.,  7.,  0.],\n",
      "        ...,\n",
      "        [ 0.,  0.,  0., ..., 16.,  2.,  0.],\n",
      "        [ 0.,  0.,  4., ..., 16.,  2.,  0.],\n",
      "        [ 0.,  0.,  5., ..., 12.,  0.,  0.]],\n",
      "\n",
      "       [[ 0.,  0., 10., ...,  1.,  0.,  0.],\n",
      "        [ 0.,  2., 16., ...,  1.,  0.,  0.],\n",
      "        [ 0.,  0., 15., ..., 15.,  0.,  0.],\n",
      "        ...,\n",
      "        [ 0.,  4., 16., ..., 16.,  6.,  0.],\n",
      "        [ 0.,  8., 16., ..., 16.,  8.,  0.],\n",
      "        [ 0.,  1.,  8., ..., 12.,  1.,  0.]]]), 'DESCR': \".. _digits_dataset:\\n\\nOptical recognition of handwritten digits dataset\\n--------------------------------------------------\\n\\n**Data Set Characteristics:**\\n\\n    :Number of Instances: 1797\\n    :Number of Attributes: 64\\n    :Attribute Information: 8x8 image of integer pixels in the range 0..16.\\n    :Missing Attribute Values: None\\n    :Creator: E. Alpaydin (alpaydin '@' boun.edu.tr)\\n    :Date: July; 1998\\n\\nThis is a copy of the test set of the UCI ML hand-written digits datasets\\nhttps://archive.ics.uci.edu/ml/datasets/Optical+Recognition+of+Handwritten+Digits\\n\\nThe data set contains images of hand-written digits: 10 classes where\\neach class refers to a digit.\\n\\nPreprocessing programs made available by NIST were used to extract\\nnormalized bitmaps of handwritten digits from a preprinted form. From a\\ntotal of 43 people, 30 contributed to the training set and different 13\\nto the test set. 32x32 bitmaps are divided into nonoverlapping blocks of\\n4x4 and the number of on pixels are counted in each block. This generates\\nan input matrix of 8x8 where each element is an integer in the range\\n0..16. This reduces dimensionality and gives invariance to small\\ndistortions.\\n\\nFor info on NIST preprocessing routines, see M. D. Garris, J. L. Blue, G.\\nT. Candela, D. L. Dimmick, J. Geist, P. J. Grother, S. A. Janet, and C.\\nL. Wilson, NIST Form-Based Handprint Recognition System, NISTIR 5469,\\n1994.\\n\\n.. topic:: References\\n\\n  - C. Kaynak (1995) Methods of Combining Multiple Classifiers and Their\\n    Applications to Handwritten Digit Recognition, MSc Thesis, Institute of\\n    Graduate Studies in Science and Engineering, Bogazici University.\\n  - E. Alpaydin, C. Kaynak (1998) Cascading Classifiers, Kybernetika.\\n  - Ken Tang and Ponnuthurai N. Suganthan and Xi Yao and A. Kai Qin.\\n    Linear dimensionalityreduction using relevance weighted LDA. School of\\n    Electrical and Electronic Engineering Nanyang Technological University.\\n    2005.\\n  - Claudio Gentile. A New Approximate Maximal Margin Classification\\n    Algorithm. NIPS. 2000.\\n\"}\n"
     ]
    }
   ],
   "source": [
    "#plit digits for test and train\n",
    "from sklearn.model_selection import train_test_split\n",
    "X_train, X_test, y_train, y_test = train_test_split(digits.data, digits.target, test_size=0.3, random_state=0)\n",
    "X_trainN, X_testN, y_trainN, y_testN = train_test_split(normalized, digits.target, test_size=0.3, random_state=0)\n",
    "X_trainS, X_testS, y_trainS, y_testS = train_test_split(standardized, digits.target, test_size=0.3, random_state=0)\n"
   ],
   "metadata": {
    "collapsed": false,
    "pycharm": {
     "name": "#%%\n"
    }
   }
  },
  {
   "cell_type": "code",
   "execution_count": 4,
   "outputs": [
    {
     "name": "stdout",
     "output_type": "stream",
     "text": [
      "0.9333333333333333\n",
      "Количество верно классифицированных объектов на стандартных данных:  504.0\n",
      "Всего объектов:  540\n",
      "0.9111111111111111\n",
      "Количество верно классифицированных объектов на нормализованных данных:  492.0\n",
      "Всего объектов:  540\n",
      "0.9277777777777778\n",
      "Количество верно классифицированных объектов на стандартизированных данных:  501.0\n",
      "Всего объектов:  540\n"
     ]
    }
   ],
   "source": [
    "#train model\n",
    "model.fit(X_train, y_train)\n",
    "#show accuracy\n",
    "print(model.score(X_test, y_test))\n",
    "print(\"Количество верно классифицированных объектов на стандартных данных: \", model.score(X_test, y_test)*len(y_test))\n",
    "print(\"Всего объектов: \", len(y_test))\n",
    "\n",
    "#train model\n",
    "model.fit(X_trainN, y_train)\n",
    "#show accuracy\n",
    "print(model.score(X_testN, y_testN))\n",
    "print(\"Количество верно классифицированных объектов на нормализованных данных: \", model.score(X_testN, y_testN)*len(y_testN))\n",
    "print(\"Всего объектов: \", len(y_testN))\n",
    "\n",
    "#train model\n",
    "model.fit(X_trainS, y_train)\n",
    "#show accuracy\n",
    "print(model.score(X_testS, y_testS))\n",
    "print(\"Количество верно классифицированных объектов на стандартизированных данных: \", model.score(X_testS, y_testS)*len(y_testS))\n",
    "print(\"Всего объектов: \", len(y_testS))\n"
   ],
   "metadata": {
    "collapsed": false,
    "pycharm": {
     "name": "#%%\n"
    }
   }
  },
  {
   "cell_type": "code",
   "execution_count": 5,
   "outputs": [
    {
     "name": "stdout",
     "output_type": "stream",
     "text": [
      "Наилучшие параметры:{'activation': 'identity', 'hidden_layer_sizes': (7,), 'learning_rate_init': 0.1}\n",
      "Точность для стандартных данных: 0.9518518518518518\n",
      "Количество верно классифицированных объектов на стандартных данных:  514\n",
      "Всего объектов:  540\n",
      "\n",
      "\n",
      "Наилучшие параметры:{'activation': 'identity', 'hidden_layer_sizes': (9,), 'learning_rate_init': 0.1}\n",
      "Точность для стандартизированных данных: 0.9592592592592593\n",
      "Количество верно классифицированных объектов на нормализированных данных:  518\n",
      "Всего объектов:  540\n",
      "\n",
      "\n",
      "Наилучшие параметры:{'activation': 'identity', 'hidden_layer_sizes': (9,), 'learning_rate_init': 0.1}\n",
      "Точность для стандартизированных данных: 0.95\n",
      "Количество верно классифицированных объектов на стандартизированных данных:  513\n",
      "Всего объектов:  540\n"
     ]
    }
   ],
   "source": [
    "import math\n",
    "from sklearn.model_selection import GridSearchCV\n",
    "# use GridSearchCV to find the best parameters\n",
    "parameters = {'hidden_layer_sizes': [(5,), (6,), (7,), (8,), (9,), (10,)],\n",
    "                'activation': ['identity', 'logistic', 'tanh', 'relu'], 'learning_rate_init': [0.1]}\n",
    "clf = GridSearchCV(model2, parameters, cv=5)\n",
    "clf.fit(X_train, y_train)\n",
    "params_ = clf.best_params_\n",
    "print(\"Наилучшие параметры:\" + str(params_))\n",
    "print(\"Точность для стандартных данных: \"+str(clf.score(X_test, y_test)))\n",
    "print(\"Количество верно классифицированных объектов на стандартных данных: \", math.ceil(clf.score(X_test, y_test)*len(y_test)))\n",
    "print(\"Всего объектов: \", len(y_test))\n",
    "print(\"\\n\")\n",
    "# use GridSearchCV to find the best parameters\n",
    "clf = GridSearchCV(model2, parameters, cv=5)\n",
    "clf.fit(X_trainN, y_train)\n",
    "print(\"Наилучшие параметры:\"+str(clf.best_params_))\n",
    "print(\"Точность для стандартизированных данных: \"+str(clf.score(X_testN, y_test)))\n",
    "print(\"Количество верно классифицированных объектов на нормализированных данных: \", math.ceil(clf.score(X_testN, y_test)*len(y_test)))\n",
    "print(\"Всего объектов: \", len(y_test))\n",
    "print(\"\\n\")\n",
    "\n",
    "model2.fit(X_trainS, y_train)\n",
    "# use GridSearchCV to find the best parameters\n",
    "clf = GridSearchCV(model2, parameters, cv=5)\n",
    "clf.fit(X_trainS, y_train)\n",
    "print(\"Наилучшие параметры:\"+str(clf.best_params_))\n",
    "print(\"Точность для стандартизированных данных: \"+str(clf.score(X_testS, y_test)))\n",
    "print(\"Количество верно классифицированных объектов на стандартизированных данных: \", math.ceil(clf.score(X_testS, y_test)*len(y_test)))\n",
    "print(\"Всего объектов: \", len(y_test))\n",
    "\n"
   ],
   "metadata": {
    "collapsed": false,
    "pycharm": {
     "name": "#%%\n"
    }
   }
  },
  {
   "cell_type": "code",
   "execution_count": 5,
   "outputs": [],
   "source": [],
   "metadata": {
    "collapsed": false,
    "pycharm": {
     "name": "#%%\n"
    }
   }
  }
 ],
 "metadata": {
  "kernelspec": {
   "display_name": "Python 3",
   "language": "python",
   "name": "python3"
  },
  "language_info": {
   "codemirror_mode": {
    "name": "ipython",
    "version": 2
   },
   "file_extension": ".py",
   "mimetype": "text/x-python",
   "name": "python",
   "nbconvert_exporter": "python",
   "pygments_lexer": "ipython2",
   "version": "2.7.6"
  }
 },
 "nbformat": 4,
 "nbformat_minor": 0
}